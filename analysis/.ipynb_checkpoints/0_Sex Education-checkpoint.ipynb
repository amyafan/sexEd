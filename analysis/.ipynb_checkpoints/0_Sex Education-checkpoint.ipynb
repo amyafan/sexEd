{
 "cells": [
  {
   "cell_type": "markdown",
   "id": "fb197092",
   "metadata": {},
   "source": [
    "# Sex Education and Public Health Outcomes\n",
    "\n",
    "Hypotheses: \n",
    "\n",
    "1. States with no sex ed requirement have higher rates of HIV\n",
    "2. States with no sex ed requirement have higher rates of STDs\n",
    "3. States with no sex ed requirement have higher rates of teen pregnancy\n",
    "4. States with no contraceptive requirement have higher rates of teen pregnancy\n",
    "5. States that emphasize/stress (?) abstinence only education have higher rates of STDs\n",
    "6. States that emphasize/stress (?) abstinence only education have higher rates of teen pregnancy\n",
    "7. States that emphasize/stress (?) abstinence only education have higher rates of HIV\n",
    "\n",
    "\n",
    "    \n",
    "2. Are the racial disparities wider? "
   ]
  },
  {
   "cell_type": "code",
   "execution_count": null,
   "id": "55a91cdf",
   "metadata": {},
   "outputs": [],
   "source": [
    "import pandas as pd \n",
    "import numpy as np \n",
    "import matplotlib.pyplot as plt\n",
    "import os\n",
    "\n",
    "preg_str = \"data//processed//etl_1_preg_state.csv\"\n",
    "preg_race_str = \"data//processed//etl_3_preg_state_race.csv\"\n",
    "state_str = \"data//processed//etl_2_HIV_STD_state.csv\"\n",
    "state_race_str = \"data//processed//etl_4_HIV_STD_state_race.csv\"\n",
    "\n",
    "sex_ed_policy_str = \"sourSex_Ed_Policy.csv\""
   ]
  },
  {
   "cell_type": "code",
   "execution_count": null,
   "id": "d1f9725c",
   "metadata": {},
   "outputs": [],
   "source": [
    "# read in file with public health indicators (asides from teen births)\n",
    "state = pd.read_csv(state_str)\n",
    "state.Geography = state.Geography.str.replace(\"\\^\", \"\")\n"
   ]
  },
  {
   "cell_type": "code",
   "execution_count": null,
   "id": "b68a54e7",
   "metadata": {},
   "outputs": [],
   "source": [
    "# teen pregnancy\n",
    "preg = pd.read_csv(preg_str, usecols=[\"State\", \"State Birth Rate\"])"
   ]
  },
  {
   "cell_type": "code",
   "execution_count": null,
   "id": "74ad5438",
   "metadata": {},
   "outputs": [],
   "source": [
    "state_pivot = pd.pivot_table(state, values='Rate per 100000', index=['Geography'], columns=['Indicator'], aggfunc=np.sum)\n",
    "state_pivot = state_pivot.replace(\"Data suppressed\", np.nan).astype(float)\n",
    "state_pivot.head()\n"
   ]
  },
  {
   "cell_type": "code",
   "execution_count": null,
   "id": "996c8471",
   "metadata": {},
   "outputs": [],
   "source": [
    "sex_ed_policy = pd.read_csv(sex_ed_policy_str)\n",
    "sex_ed_policy.State[8] = \"District of Columbia\""
   ]
  },
  {
   "cell_type": "markdown",
   "id": "14163b3c",
   "metadata": {},
   "source": [
    "## HIV + sex ed requirement\n",
    "\n",
    "1. States with no sex ed requirement have higher rates of HIV\n"
   ]
  },
  {
   "cell_type": "code",
   "execution_count": null,
   "id": "075dd92e",
   "metadata": {},
   "outputs": [],
   "source": [
    "STI_HIV_merge = sex_ed_policy.merge(state_pivot, left_on= \"State\", right_on=\"Geography\")\n",
    "\n",
    "# drop DC\n",
    "STI_HIV_merge = STI_HIV_merge[STI_HIV_merge.State != \"District of Columbia\"]"
   ]
  },
  {
   "cell_type": "code",
   "execution_count": null,
   "id": "84a61ccd",
   "metadata": {},
   "outputs": [],
   "source": [
    "# Does require sex ed \n",
    "\n",
    "# STI_HIV_merge[STI_HIV_merge[\"SIECUS sex-ed req EDITED\"]==1].sort_values(\"Rate per 100000\", ascending = False)[[\"State\", \"Rate per 100000\"]]\n",
    "\n",
    "\n",
    "STI_HIV_merge[(STI_HIV_merge[\"SIECUS sex-ed req EDITED\"]==1)].head()"
   ]
  },
  {
   "cell_type": "code",
   "execution_count": null,
   "id": "619e5f8d",
   "metadata": {},
   "outputs": [],
   "source": [
    "# does not require sex ed\n",
    "# STI_HIV_merge[STI_HIV_merge[\"SIECUS sex-ed req EDITED\"]!=1].sort_values(\"Rate per 100000\", ascending = False)[[\"State\", \"Rate per 100000\"]]\n",
    "\n",
    "STI_HIV_merge[STI_HIV_merge[\"SIECUS sex-ed req EDITED\"]!=1].hist()\n",
    "plt.title(\"HIV rates for states without a sex-ed requirement\")"
   ]
  },
  {
   "cell_type": "code",
   "execution_count": null,
   "id": "640f8bd0",
   "metadata": {},
   "outputs": [],
   "source": [
    "STI_HIV_merge.groupby(\"SIECUS sex-ed req EDITED\", dropna=False).median()"
   ]
  },
  {
   "cell_type": "code",
   "execution_count": null,
   "id": "bb058d1d",
   "metadata": {},
   "outputs": [],
   "source": [
    "STI_HIV_merge.groupby(\"SIECUS sex-ed req EDITED\", dropna=False).mean()"
   ]
  },
  {
   "cell_type": "markdown",
   "id": "78840422",
   "metadata": {},
   "source": [
    "The average HIV prevelance is actually higher for states that require sex ed, but the median is higher for states that don't require it."
   ]
  },
  {
   "cell_type": "markdown",
   "id": "16bf5207",
   "metadata": {},
   "source": [
    "## Teen births and sex education \n",
    "\n",
    "3. States with no sex ed requirement have higher rates of teen pregnancy\n",
    "\n",
    "\n"
   ]
  },
  {
   "cell_type": "code",
   "execution_count": null,
   "id": "95037801",
   "metadata": {},
   "outputs": [],
   "source": [
    "preg_merge = sex_ed_policy.merge(preg)\n",
    "preg_merge.head()"
   ]
  },
  {
   "cell_type": "code",
   "execution_count": null,
   "id": "35731d16",
   "metadata": {},
   "outputs": [],
   "source": [
    "preg_merge[\"SIECUS sex-ed req EDITED\"].value_counts(dropna=False)"
   ]
  },
  {
   "cell_type": "code",
   "execution_count": null,
   "id": "4858ecd9",
   "metadata": {},
   "outputs": [],
   "source": [
    "preg_merge[preg_merge['SIECUS sex-ed req EDITED']==1]['State Birth Rate'].hist()\n",
    "plt.title(\"Teen Birth rate for states with a sex-ed requirement\")"
   ]
  },
  {
   "cell_type": "code",
   "execution_count": null,
   "id": "849a9cb8",
   "metadata": {},
   "outputs": [],
   "source": [
    "preg_merge[preg_merge['SIECUS sex-ed req EDITED']!=1]['State Birth Rate'].hist()\n",
    "plt.title(\"Teen Birth rate for states without a sex-ed requirement\")"
   ]
  },
  {
   "cell_type": "code",
   "execution_count": null,
   "id": "cc063f9f",
   "metadata": {},
   "outputs": [],
   "source": [
    "preg_merge.groupby(\"SIECUS sex-ed req EDITED\", dropna = False).mean()"
   ]
  },
  {
   "cell_type": "code",
   "execution_count": null,
   "id": "35b3b9ac",
   "metadata": {},
   "outputs": [],
   "source": [
    "preg_merge.groupby(\"SIECUS sex-ed req EDITED\", dropna = False).median()"
   ]
  },
  {
   "cell_type": "markdown",
   "id": "91290569",
   "metadata": {},
   "source": [
    "States that require sex ed have lower teen birth rates\n",
    "\n",
    "## Contraceptive requirements and teen pregnancy\n",
    "\n",
    "4. States with no contraceptive requirement have higher rates of teen pregnancy"
   ]
  },
  {
   "cell_type": "code",
   "execution_count": null,
   "id": "e8452f6d",
   "metadata": {},
   "outputs": [],
   "source": [
    "preg_merge[\"SIECUS contraception req\"].value_counts(dropna=False)"
   ]
  },
  {
   "cell_type": "code",
   "execution_count": null,
   "id": "f5f4677a",
   "metadata": {},
   "outputs": [],
   "source": [
    "preg_merge[preg_merge['SIECUS contraception req'].isnull()]['State Birth Rate'].median()"
   ]
  },
  {
   "cell_type": "code",
   "execution_count": null,
   "id": "259b5570",
   "metadata": {},
   "outputs": [],
   "source": [
    "preg_merge[~preg_merge['SIECUS contraception req'].isnull()]['State Birth Rate'].median()"
   ]
  },
  {
   "cell_type": "code",
   "execution_count": null,
   "id": "bc79df6d",
   "metadata": {},
   "outputs": [],
   "source": [
    "preg_merge[~preg_merge['SIECUS contraception req'].isnull()]['State Birth Rate'].mean()"
   ]
  },
  {
   "cell_type": "code",
   "execution_count": null,
   "id": "2cf5ec70",
   "metadata": {},
   "outputs": [],
   "source": [
    "preg_merge[preg_merge['SIECUS contraception req'].isnull()]['State Birth Rate'].mean()"
   ]
  },
  {
   "cell_type": "code",
   "execution_count": null,
   "id": "1ba536d6",
   "metadata": {},
   "outputs": [],
   "source": [
    "preg_merge[~preg_merge['SIECUS contraception req'].isnull()]['State Birth Rate'].hist()"
   ]
  },
  {
   "cell_type": "code",
   "execution_count": null,
   "id": "247f0c61",
   "metadata": {},
   "outputs": [],
   "source": [
    "preg_merge.groupby('SIECUS contraception req', dropna=False).median()"
   ]
  },
  {
   "cell_type": "code",
   "execution_count": null,
   "id": "84a52449",
   "metadata": {},
   "outputs": [],
   "source": [
    "preg_merge.groupby('SIECUS contraception req', dropna=False).mean()"
   ]
  },
  {
   "cell_type": "code",
   "execution_count": null,
   "id": "08576434",
   "metadata": {
    "scrolled": false
   },
   "outputs": [],
   "source": [
    "preg_merge[['SIECUS contraception req', 'State Birth Rate']].groupby('SIECUS contraception req', dropna=False).hist()"
   ]
  },
  {
   "cell_type": "markdown",
   "id": "e9e6d2e9",
   "metadata": {},
   "source": [
    "States that have limited contraception requirements are worse than not having any requirement at all?? "
   ]
  },
  {
   "cell_type": "markdown",
   "id": "0a8e8a2f",
   "metadata": {},
   "source": [
    "## Abstinence education versus teen pregnancy\n",
    "\n",
    "6. States that emphasize/stress (?) abstinence only education have higher rates of teen pregnancy"
   ]
  },
  {
   "cell_type": "code",
   "execution_count": null,
   "id": "99403ac5",
   "metadata": {},
   "outputs": [],
   "source": [
    "preg_merge[\"Abstinence (Guttmacher) \"].value_counts(dropna=False)"
   ]
  },
  {
   "cell_type": "code",
   "execution_count": null,
   "id": "a9165c8a",
   "metadata": {},
   "outputs": [],
   "source": [
    "preg_merge[['Abstinence (Guttmacher) ', 'State Birth Rate']].groupby('Abstinence (Guttmacher) ', dropna=False).hist()"
   ]
  },
  {
   "cell_type": "code",
   "execution_count": null,
   "id": "79202542",
   "metadata": {},
   "outputs": [],
   "source": [
    "preg_merge[['Abstinence (Guttmacher) ', 'State Birth Rate']].groupby('Abstinence (Guttmacher) ', dropna=False).mean()"
   ]
  },
  {
   "cell_type": "code",
   "execution_count": null,
   "id": "bd8e5dba",
   "metadata": {},
   "outputs": [],
   "source": [
    "preg_merge[['Abstinence (Guttmacher) ', 'State Birth Rate']].groupby('Abstinence (Guttmacher) ', dropna=False).median()"
   ]
  },
  {
   "cell_type": "markdown",
   "id": "99f500a3",
   "metadata": {},
   "source": [
    "Again, this weird moderating effect: States that have strict abstinence requirements have the highest teen birth rates worst, but states that cover abstinence (without strict abstinence requirements) have lower rates than states with nothing at all. \n",
    "\n",
    "## Abstinence education + HIV rates \n",
    "\n",
    "7. States that emphasize/stress (?) abstinence only education have higher rates of HIV\n"
   ]
  },
  {
   "cell_type": "code",
   "execution_count": null,
   "id": "ccb9e017",
   "metadata": {},
   "outputs": [],
   "source": [
    "STI_HIV_merge.groupby('Abstinence (Guttmacher) ', dropna=False).hist()"
   ]
  },
  {
   "cell_type": "code",
   "execution_count": null,
   "id": "04e1b9da",
   "metadata": {},
   "outputs": [],
   "source": [
    "STI_HIV_merge.groupby('Abstinence (Guttmacher) ', dropna=False).mean()"
   ]
  },
  {
   "cell_type": "code",
   "execution_count": null,
   "id": "36204490",
   "metadata": {},
   "outputs": [],
   "source": [
    "STI_HIV_merge.groupby('Abstinence (Guttmacher) ', dropna=False).median()"
   ]
  },
  {
   "cell_type": "markdown",
   "id": "5dade352",
   "metadata": {},
   "source": [
    "States that teach abstinence have higher rates of HIV. "
   ]
  },
  {
   "cell_type": "markdown",
   "id": "5fb5229f",
   "metadata": {},
   "source": [
    "## messing around"
   ]
  },
  {
   "cell_type": "code",
   "execution_count": null,
   "id": "d503585d",
   "metadata": {},
   "outputs": [],
   "source": [
    "preg_merge.sort_values(\"State Birth Rate\") "
   ]
  },
  {
   "cell_type": "markdown",
   "id": "ae4fd8aa",
   "metadata": {},
   "source": [
    "Of the 15 states with the highest teen birth rates: \n",
    "* 13 states (all but Wyoming and New Mexico) had restrictive abortion laws\n",
    "* 12 stress abstinence\n",
    "* 2 have expansive contraception ed requirements\n",
    "* 2 are required to teach consent\n",
    "\n",
    "Of the 15 states with the lowest teen birth rates: \n",
    "* 3 (Utah, Wisconsin, and Pennsylvania) had restrictive abortion laws\n",
    "* 7 stress abstinence\n",
    "* 6 have expansive contraception ed requirements\n",
    "* 5 are required to teach consent\n",
    "\n",
    "\"Of the 15 states with the highest teen birth rates, over 85% had restrictive abortion laws. But only 20% of the states with the lowest teen birth rates had similar laws.\"\n",
    "\n",
    "Graphics could be maps highlighting the specific states. "
   ]
  },
  {
   "cell_type": "code",
   "execution_count": null,
   "id": "2324a6bf",
   "metadata": {
    "scrolled": true
   },
   "outputs": [],
   "source": [
    "STI_HIV_merge.sort_values(\"Chlamydia\")"
   ]
  },
  {
   "cell_type": "markdown",
   "id": "45a9bb27",
   "metadata": {},
   "source": [
    "Not sure if there's too much compelling work on STDs or HIV\n",
    "\n",
    "## Race"
   ]
  },
  {
   "cell_type": "code",
   "execution_count": null,
   "id": "76f14408",
   "metadata": {},
   "outputs": [],
   "source": [
    "preg_race = pd.read_csv(preg_race_str)\n",
    "preg_race.columns"
   ]
  },
  {
   "cell_type": "code",
   "execution_count": null,
   "id": "b0b730ad",
   "metadata": {},
   "outputs": [],
   "source": [
    "preg_race_pivot = pd.pivot_table(preg_race, values='Fertility Rate', index=['State of Residence'], columns=[\"Mother's Hispanic Origin\"], aggfunc=np.sum)"
   ]
  },
  {
   "cell_type": "code",
   "execution_count": null,
   "id": "33cb862f",
   "metadata": {},
   "outputs": [],
   "source": [
    "preg_race_merge = sex_ed_policy.merge(preg_race_pivot, left_on= \"State\", right_on=\"State of Residence\")"
   ]
  },
  {
   "cell_type": "code",
   "execution_count": null,
   "id": "18ef911e",
   "metadata": {
    "scrolled": true
   },
   "outputs": [],
   "source": [
    "preg_race_merge.head(15)"
   ]
  },
  {
   "cell_type": "code",
   "execution_count": null,
   "id": "0f322643",
   "metadata": {},
   "outputs": [],
   "source": [
    "preg_race_merge['bw_diff'] = preg_race_merge['Black or African American']-preg_race_merge.White"
   ]
  },
  {
   "cell_type": "code",
   "execution_count": null,
   "id": "545dec21",
   "metadata": {},
   "outputs": [],
   "source": [
    "preg_race_merge.sort_values('bw_diff')"
   ]
  },
  {
   "cell_type": "code",
   "execution_count": null,
   "id": "f788d352",
   "metadata": {},
   "outputs": [],
   "source": [
    "preg_race_merge['Black or African American'].mean()"
   ]
  },
  {
   "cell_type": "code",
   "execution_count": null,
   "id": "46522e33",
   "metadata": {},
   "outputs": [],
   "source": [
    "preg_race_merge['White'].mean()"
   ]
  },
  {
   "cell_type": "code",
   "execution_count": null,
   "id": "bdd82289",
   "metadata": {},
   "outputs": [],
   "source": [
    "preg_race_merge['Hispanic or Latino'].mean()"
   ]
  },
  {
   "cell_type": "markdown",
   "id": "a86e5cd2",
   "metadata": {},
   "source": [
    "\"Around the country, Black or Hispanic teen births are more common than white teen births in every state except for West Virginia.\"\n",
    "\n",
    "\"But the states where Black teen fertility is much higher than white teen fertility are also often the states with more restrictive abortion policies.\" (similar if you look at Hispanic-white gaps) \n",
    "\n",
    "For the 15 states with the highest different in Black-white teen fertility rate, 12 have restrictive abortion policies. For the 15 states with the lower diffrerence, only 6 have restrictive abortion policies. \n",
    "\n",
    "4 for smallest gaps \n",
    "10 for largest gaps \n"
   ]
  },
  {
   "cell_type": "code",
   "execution_count": null,
   "id": "5c24b7cb",
   "metadata": {
    "scrolled": true
   },
   "outputs": [],
   "source": [
    "preg_race_merge['bh_diff'] = preg_race_merge['Hispanic or Latino']-preg_race_merge.White"
   ]
  },
  {
   "cell_type": "code",
   "execution_count": null,
   "id": "510493f6",
   "metadata": {},
   "outputs": [],
   "source": [
    "preg_race_merge.sort_values(\"bh_diff\")"
   ]
  },
  {
   "cell_type": "markdown",
   "id": "404be03a",
   "metadata": {},
   "source": [
    "Half of all states (25) have some sort of restriction on abortions \n"
   ]
  }
 ],
 "metadata": {
  "kernelspec": {
   "display_name": "Python 3 (ipykernel)",
   "language": "python",
   "name": "python3"
  },
  "language_info": {
   "codemirror_mode": {
    "name": "ipython",
    "version": 3
   },
   "file_extension": ".py",
   "mimetype": "text/x-python",
   "name": "python",
   "nbconvert_exporter": "python",
   "pygments_lexer": "ipython3",
   "version": "3.8.9"
  }
 },
 "nbformat": 4,
 "nbformat_minor": 5
}

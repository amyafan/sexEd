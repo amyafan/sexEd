{
 "cells": [
  {
   "cell_type": "markdown",
   "id": "8aaec584",
   "metadata": {},
   "source": [
    "## Amy Uses R and learns how to use weights again!"
   ]
  },
  {
   "cell_type": "code",
   "execution_count": 1,
   "id": "06e75048",
   "metadata": {},
   "outputs": [
    {
     "name": "stderr",
     "output_type": "stream",
     "text": [
      "Loading required package: grid\n",
      "\n",
      "Loading required package: Matrix\n",
      "\n",
      "Loading required package: survival\n",
      "\n",
      "\n",
      "Attaching package: ‘survey’\n",
      "\n",
      "\n",
      "The following object is masked from ‘package:graphics’:\n",
      "\n",
      "    dotchart\n",
      "\n",
      "\n"
     ]
    }
   ],
   "source": [
    "library(survey)"
   ]
  },
  {
   "cell_type": "code",
   "execution_count": 2,
   "id": "3ce4fffa",
   "metadata": {},
   "outputs": [],
   "source": [
    "dataloc <- \"../data/processed/\"\n",
    "\n",
    "surveyloc <- paste(dataloc, \"etl_5_yrbs.csv\", sep=\"\")"
   ]
  },
  {
   "cell_type": "code",
   "execution_count": 40,
   "id": "1314a5a1",
   "metadata": {},
   "outputs": [],
   "source": [
    "yrbs <- read.csv(surveyloc)"
   ]
  },
  {
   "cell_type": "code",
   "execution_count": 41,
   "id": "6aee3138",
   "metadata": {},
   "outputs": [
    {
     "data": {
      "text/html": [
       "<table class=\"dataframe\">\n",
       "<caption>A data.frame: 6 × 24</caption>\n",
       "<thead>\n",
       "\t<tr><th></th><th scope=col>X</th><th scope=col>sitecode</th><th scope=col>year</th><th scope=col>survyear</th><th scope=col>weight</th><th scope=col>stratum</th><th scope=col>PSU</th><th scope=col>age</th><th scope=col>q19</th><th scope=col>q20</th><th scope=col>⋯</th><th scope=col>qtaughtcondom</th><th scope=col>qtaughtbc</th><th scope=col>qn19</th><th scope=col>qn20</th><th scope=col>qn21</th><th scope=col>qn22</th><th scope=col>qntaughtsexed</th><th scope=col>qntaughtstd</th><th scope=col>qntaughtcondom</th><th scope=col>qntaughtbc</th></tr>\n",
       "\t<tr><th></th><th scope=col>&lt;int&gt;</th><th scope=col>&lt;chr&gt;</th><th scope=col>&lt;int&gt;</th><th scope=col>&lt;int&gt;</th><th scope=col>&lt;dbl&gt;</th><th scope=col>&lt;int&gt;</th><th scope=col>&lt;int&gt;</th><th scope=col>&lt;chr&gt;</th><th scope=col>&lt;dbl&gt;</th><th scope=col>&lt;dbl&gt;</th><th scope=col>⋯</th><th scope=col>&lt;lgl&gt;</th><th scope=col>&lt;dbl&gt;</th><th scope=col>&lt;chr&gt;</th><th scope=col>&lt;chr&gt;</th><th scope=col>&lt;chr&gt;</th><th scope=col>&lt;chr&gt;</th><th scope=col>&lt;chr&gt;</th><th scope=col>&lt;chr&gt;</th><th scope=col>&lt;chr&gt;</th><th scope=col>&lt;chr&gt;</th></tr>\n",
       "</thead>\n",
       "<tbody>\n",
       "\t<tr><th scope=row>1</th><td>0</td><td>AL</td><td>1991</td><td>1</td><td>98.1638</td><td> 8</td><td>2</td><td>.</td><td>NA</td><td>NA</td><td>⋯</td><td>NA</td><td>NA</td><td>.</td><td>.</td><td>.</td><td>.</td><td>.</td><td>.</td><td>.</td><td>.</td></tr>\n",
       "\t<tr><th scope=row>2</th><td>1</td><td>AL</td><td>1991</td><td>1</td><td>69.1663</td><td>15</td><td>2</td><td>1</td><td>NA</td><td>NA</td><td>⋯</td><td>NA</td><td>NA</td><td>.</td><td>.</td><td>.</td><td>.</td><td>.</td><td>.</td><td>.</td><td>.</td></tr>\n",
       "\t<tr><th scope=row>3</th><td>2</td><td>AL</td><td>1991</td><td>1</td><td>80.3232</td><td>15</td><td>1</td><td>2</td><td>NA</td><td>NA</td><td>⋯</td><td>NA</td><td>NA</td><td>.</td><td>.</td><td>.</td><td>.</td><td>.</td><td>.</td><td>.</td><td>.</td></tr>\n",
       "\t<tr><th scope=row>4</th><td>3</td><td>AL</td><td>1991</td><td>1</td><td>66.5061</td><td>20</td><td>2</td><td>4</td><td>NA</td><td>NA</td><td>⋯</td><td>NA</td><td>NA</td><td>.</td><td>.</td><td>.</td><td>.</td><td>.</td><td>.</td><td>.</td><td>.</td></tr>\n",
       "\t<tr><th scope=row>5</th><td>4</td><td>AL</td><td>1991</td><td>1</td><td>89.3992</td><td> 5</td><td>1</td><td>5</td><td>NA</td><td>NA</td><td>⋯</td><td>NA</td><td>NA</td><td>.</td><td>.</td><td>.</td><td>.</td><td>.</td><td>.</td><td>.</td><td>.</td></tr>\n",
       "\t<tr><th scope=row>6</th><td>5</td><td>AL</td><td>1991</td><td>1</td><td>59.2770</td><td> 1</td><td>1</td><td>5</td><td>NA</td><td>NA</td><td>⋯</td><td>NA</td><td>NA</td><td>.</td><td>.</td><td>.</td><td>.</td><td>.</td><td>.</td><td>.</td><td>.</td></tr>\n",
       "</tbody>\n",
       "</table>\n"
      ],
      "text/latex": [
       "A data.frame: 6 × 24\n",
       "\\begin{tabular}{r|lllllllllllllllllllll}\n",
       "  & X & sitecode & year & survyear & weight & stratum & PSU & age & q19 & q20 & ⋯ & qtaughtcondom & qtaughtbc & qn19 & qn20 & qn21 & qn22 & qntaughtsexed & qntaughtstd & qntaughtcondom & qntaughtbc\\\\\n",
       "  & <int> & <chr> & <int> & <int> & <dbl> & <int> & <int> & <chr> & <dbl> & <dbl> & ⋯ & <lgl> & <dbl> & <chr> & <chr> & <chr> & <chr> & <chr> & <chr> & <chr> & <chr>\\\\\n",
       "\\hline\n",
       "\t1 & 0 & AL & 1991 & 1 & 98.1638 &  8 & 2 & . & NA & NA & ⋯ & NA & NA & . & . & . & . & . & . & . & .\\\\\n",
       "\t2 & 1 & AL & 1991 & 1 & 69.1663 & 15 & 2 & 1 & NA & NA & ⋯ & NA & NA & . & . & . & . & . & . & . & .\\\\\n",
       "\t3 & 2 & AL & 1991 & 1 & 80.3232 & 15 & 1 & 2 & NA & NA & ⋯ & NA & NA & . & . & . & . & . & . & . & .\\\\\n",
       "\t4 & 3 & AL & 1991 & 1 & 66.5061 & 20 & 2 & 4 & NA & NA & ⋯ & NA & NA & . & . & . & . & . & . & . & .\\\\\n",
       "\t5 & 4 & AL & 1991 & 1 & 89.3992 &  5 & 1 & 5 & NA & NA & ⋯ & NA & NA & . & . & . & . & . & . & . & .\\\\\n",
       "\t6 & 5 & AL & 1991 & 1 & 59.2770 &  1 & 1 & 5 & NA & NA & ⋯ & NA & NA & . & . & . & . & . & . & . & .\\\\\n",
       "\\end{tabular}\n"
      ],
      "text/markdown": [
       "\n",
       "A data.frame: 6 × 24\n",
       "\n",
       "| <!--/--> | X &lt;int&gt; | sitecode &lt;chr&gt; | year &lt;int&gt; | survyear &lt;int&gt; | weight &lt;dbl&gt; | stratum &lt;int&gt; | PSU &lt;int&gt; | age &lt;chr&gt; | q19 &lt;dbl&gt; | q20 &lt;dbl&gt; | ⋯ ⋯ | qtaughtcondom &lt;lgl&gt; | qtaughtbc &lt;dbl&gt; | qn19 &lt;chr&gt; | qn20 &lt;chr&gt; | qn21 &lt;chr&gt; | qn22 &lt;chr&gt; | qntaughtsexed &lt;chr&gt; | qntaughtstd &lt;chr&gt; | qntaughtcondom &lt;chr&gt; | qntaughtbc &lt;chr&gt; |\n",
       "|---|---|---|---|---|---|---|---|---|---|---|---|---|---|---|---|---|---|---|---|---|---|\n",
       "| 1 | 0 | AL | 1991 | 1 | 98.1638 |  8 | 2 | . | NA | NA | ⋯ | NA | NA | . | . | . | . | . | . | . | . |\n",
       "| 2 | 1 | AL | 1991 | 1 | 69.1663 | 15 | 2 | 1 | NA | NA | ⋯ | NA | NA | . | . | . | . | . | . | . | . |\n",
       "| 3 | 2 | AL | 1991 | 1 | 80.3232 | 15 | 1 | 2 | NA | NA | ⋯ | NA | NA | . | . | . | . | . | . | . | . |\n",
       "| 4 | 3 | AL | 1991 | 1 | 66.5061 | 20 | 2 | 4 | NA | NA | ⋯ | NA | NA | . | . | . | . | . | . | . | . |\n",
       "| 5 | 4 | AL | 1991 | 1 | 89.3992 |  5 | 1 | 5 | NA | NA | ⋯ | NA | NA | . | . | . | . | . | . | . | . |\n",
       "| 6 | 5 | AL | 1991 | 1 | 59.2770 |  1 | 1 | 5 | NA | NA | ⋯ | NA | NA | . | . | . | . | . | . | . | . |\n",
       "\n"
      ],
      "text/plain": [
       "  X sitecode year survyear weight  stratum PSU age q19 q20 ⋯ qtaughtcondom\n",
       "1 0 AL       1991 1        98.1638  8      2   .   NA  NA  ⋯ NA           \n",
       "2 1 AL       1991 1        69.1663 15      2   1   NA  NA  ⋯ NA           \n",
       "3 2 AL       1991 1        80.3232 15      1   2   NA  NA  ⋯ NA           \n",
       "4 3 AL       1991 1        66.5061 20      2   4   NA  NA  ⋯ NA           \n",
       "5 4 AL       1991 1        89.3992  5      1   5   NA  NA  ⋯ NA           \n",
       "6 5 AL       1991 1        59.2770  1      1   5   NA  NA  ⋯ NA           \n",
       "  qtaughtbc qn19 qn20 qn21 qn22 qntaughtsexed qntaughtstd qntaughtcondom\n",
       "1 NA        .    .    .    .    .             .           .             \n",
       "2 NA        .    .    .    .    .             .           .             \n",
       "3 NA        .    .    .    .    .             .           .             \n",
       "4 NA        .    .    .    .    .             .           .             \n",
       "5 NA        .    .    .    .    .             .           .             \n",
       "6 NA        .    .    .    .    .             .           .             \n",
       "  qntaughtbc\n",
       "1 .         \n",
       "2 .         \n",
       "3 .         \n",
       "4 .         \n",
       "5 .         \n",
       "6 .         "
      ]
     },
     "metadata": {},
     "output_type": "display_data"
    }
   ],
   "source": [
    "head(yrbs)"
   ]
  },
  {
   "cell_type": "code",
   "execution_count": 42,
   "id": "90a01b13",
   "metadata": {},
   "outputs": [],
   "source": [
    "yrbs[yrbs== \".\"] = NA"
   ]
  },
  {
   "cell_type": "code",
   "execution_count": 43,
   "id": "78bbe8ff",
   "metadata": {},
   "outputs": [],
   "source": [
    "yrbs_tx <- yrbs[yrbs$sitecode == \"TX\",]\n",
    "yrbs_tx_2019 = yrbs_tx[yrbs_tx$year == 2019,]"
   ]
  },
  {
   "cell_type": "code",
   "execution_count": 44,
   "id": "7379715f",
   "metadata": {},
   "outputs": [],
   "source": [
    "yrbs_tx_2019_design <- svydesign(id= ~PSU, weight= ~weight, strata= ~stratum, data=yrbs_tx_2019, nest=TRUE)"
   ]
  },
  {
   "cell_type": "code",
   "execution_count": 45,
   "id": "bf8eb3eb",
   "metadata": {},
   "outputs": [
    {
     "data": {
      "text/plain": [
       "Stratified 1 - level Cluster Sampling design (with replacement)\n",
       "With (32) clusters.\n",
       "svydesign(id = ~PSU, weight = ~weight, strata = ~stratum, data = yrbs_tx_2019, \n",
       "    nest = TRUE)\n",
       "Probabilities:\n",
       "     Min.   1st Qu.    Median      Mean   3rd Qu.      Max. \n",
       "0.0003453 0.0010450 0.0013450 0.0016222 0.0017690 0.0056526 \n",
       "Stratum Sizes: \n",
       "             1   2   3   4   5   6   7   8   9  10  11 12 13  14  15 16\n",
       "obs        128 119 135 100 156 105 135 106 277 115 154 97 78 128 122 77\n",
       "design.PSU   2   2   2   2   2   2   2   2   2   2   2  2  2   2   2  2\n",
       "actual.PSU   2   2   2   2   2   2   2   2   2   2   2  2  2   2   2  2\n",
       "Data variables:\n",
       " [1] \"X\"              \"sitecode\"       \"year\"           \"survyear\"      \n",
       " [5] \"weight\"         \"stratum\"        \"PSU\"            \"age\"           \n",
       " [9] \"q19\"            \"q20\"            \"q21\"            \"q22\"           \n",
       "[13] \"qtaughtsexed\"   \"qtaughtstd\"     \"qtaughtcondom\"  \"qtaughtbc\"     \n",
       "[17] \"qn19\"           \"qn20\"           \"qn21\"           \"qn22\"          \n",
       "[21] \"qntaughtsexed\"  \"qntaughtstd\"    \"qntaughtcondom\" \"qntaughtbc\"    "
      ]
     },
     "metadata": {},
     "output_type": "display_data"
    }
   ],
   "source": [
    "summary(yrbs_tx_2019_design)"
   ]
  },
  {
   "cell_type": "code",
   "execution_count": 51,
   "id": "4672cae1",
   "metadata": {},
   "outputs": [
    {
     "data": {
      "text/plain": [
       "           mean        SE   DEff\n",
       "qn201 0.1004611 0.0060291 0.7971\n",
       "qn202 0.8995389 0.0060291 0.7971"
      ]
     },
     "metadata": {},
     "output_type": "display_data"
    }
   ],
   "source": [
    "svymean(~qn20, yrbs_tx_2019_design, deff=TRUE, na.rm=TRUE)"
   ]
  },
  {
   "cell_type": "code",
   "execution_count": null,
   "id": "7541497c",
   "metadata": {},
   "outputs": [],
   "source": []
  }
 ],
 "metadata": {
  "kernelspec": {
   "display_name": "R",
   "language": "R",
   "name": "ir"
  },
  "language_info": {
   "codemirror_mode": "r",
   "file_extension": ".r",
   "mimetype": "text/x-r-source",
   "name": "R",
   "pygments_lexer": "r",
   "version": "4.2.1"
  }
 },
 "nbformat": 4,
 "nbformat_minor": 5
}
